{
  "nbformat": 4,
  "nbformat_minor": 0,
  "metadata": {
    "colab": {
      "name": "ITmarathon.ipynb",
      "provenance": []
    },
    "kernelspec": {
      "name": "python3",
      "display_name": "Python 3"
    }
  },
  "cells": [
    {
      "cell_type": "code",
      "metadata": {
        "id": "iC5rC9IwqrBe",
        "colab_type": "code",
        "colab": {
          "base_uri": "https://localhost:8080/",
          "height": 136
        },
        "outputId": "cdbe2aa2-d98b-4fbd-ae21-71357f64b2dc"
      },
      "source": [
        "alpen = 50\n",
        "pringles = 140\n",
        "flash = 48\n",
        "cheese = 110\n",
        "heinz = \"32.5\"\n",
        "print (alpen + pringles)\n",
        "print (cheese - flash)\n",
        "print (cheese/alpen)\n",
        "print (alpen * flash)\n",
        "print (cheese / float(heinz))\n",
        "print (pringles//cheese)\n",
        "print (alpen%flash)"
      ],
      "execution_count": 18,
      "outputs": [
        {
          "output_type": "stream",
          "text": [
            "190\n",
            "62\n",
            "2.2\n",
            "2400\n",
            "3.3846153846153846\n",
            "1\n",
            "2\n"
          ],
          "name": "stdout"
        }
      ]
    }
  ]
}