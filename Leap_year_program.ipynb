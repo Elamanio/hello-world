{
  "nbformat": 4,
  "nbformat_minor": 0,
  "metadata": {
    "colab": {
      "name": "ITmarathon.ipynb",
      "provenance": []
    },
    "kernelspec": {
      "name": "python3",
      "display_name": "Python 3"
    }
  },
  "cells": [
    {
      "cell_type": "code",
      "metadata": {
        "id": "xs5hGpxOi0ti",
        "colab_type": "code",
        "colab": {
          "base_uri": "https://localhost:8080/",
          "height": 34
        },
        "outputId": "1f429c18-634a-4a70-dcbb-fc66f424e2d4"
      },
      "source": [
        "Year = 1996\n",
        "if Year % 4 == 0:\n",
        "    print(\"a leap year\")        \n",
        "else:\n",
        "    print(\"not a leap year\")"
      ],
      "execution_count": 27,
      "outputs": [
        {
          "output_type": "stream",
          "text": [
            "a leap year\n"
          ],
          "name": "stdout"
        }
      ]
    }
  ]
}