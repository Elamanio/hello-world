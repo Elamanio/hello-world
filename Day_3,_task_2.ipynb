{
  "nbformat": 4,
  "nbformat_minor": 0,
  "metadata": {
    "colab": {
      "name": "Day 3, task 2.ipynb",
      "provenance": []
    },
    "kernelspec": {
      "name": "python3",
      "display_name": "Python 3"
    }
  },
  "cells": [
    {
      "cell_type": "code",
      "metadata": {
        "id": "wWQIwdZlUM05",
        "colab_type": "code",
        "colab": {
          "base_uri": "https://localhost:8080/",
          "height": 34
        },
        "outputId": "22b00329-29f4-456a-c19a-69dd132acf50"
      },
      "source": [
        "Expression = 'Thank you'\n",
        "Addressee = 'Zhama'\n",
        "message = f'{Expression}, {Addressee.upper()}!'\n",
        "print(message)"
      ],
      "execution_count": 10,
      "outputs": [
        {
          "output_type": "stream",
          "text": [
            "Thank you, ZHAMA!\n"
          ],
          "name": "stdout"
        }
      ]
    }
  ]
}