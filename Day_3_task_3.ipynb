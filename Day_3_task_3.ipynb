{
  "nbformat": 4,
  "nbformat_minor": 0,
  "metadata": {
    "colab": {
      "name": "Day 3 task 3.ipynb",
      "provenance": []
    },
    "kernelspec": {
      "name": "python3",
      "display_name": "Python 3"
    }
  },
  "cells": [
    {
      "cell_type": "code",
      "metadata": {
        "id": "HMy1MSWRhx4P",
        "colab_type": "code",
        "outputId": "dc9ecb18-c5cd-4c7f-fbc1-5d259799be5a",
        "colab": {
          "base_uri": "https://localhost:8080/",
          "height": 55
        }
      },
      "source": [
        "word = \"zhamalungma\"\n",
        "n = int(input(\"enter index number \"))\n",
        "word[0:n] + word[n + 1:]\n",
        "\n"
      ],
      "execution_count": 2,
      "outputs": [
        {
          "output_type": "stream",
          "text": [
            "enter index number 6\n"
          ],
          "name": "stdout"
        },
        {
          "output_type": "execute_result",
          "data": {
            "text/plain": [
              "'zhamalngma'"
            ]
          },
          "metadata": {
            "tags": []
          },
          "execution_count": 2
        }
      ]
    },
    {
      "cell_type": "code",
      "metadata": {
        "id": "yoLbLu8nJ-yu",
        "colab_type": "code",
        "colab": {}
      },
      "source": [
        "n = int(input(\"enter index number \"))"
      ],
      "execution_count": 0,
      "outputs": []
    }
  ]
}