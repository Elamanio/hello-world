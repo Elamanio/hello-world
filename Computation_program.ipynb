{
  "nbformat": 4,
  "nbformat_minor": 0,
  "metadata": {
    "colab": {
      "name": "Computation program.ipynb",
      "provenance": []
    },
    "kernelspec": {
      "name": "python3",
      "display_name": "Python 3"
    }
  },
  "cells": [
    {
      "cell_type": "code",
      "metadata": {
        "id": "FIqzK3R-xwp7",
        "colab_type": "code",
        "colab": {
          "base_uri": "https://localhost:8080/",
          "height": 55
        },
        "outputId": "4fc1541c-849f-4297-e428-8aa16ca118f3"
      },
      "source": [
        "n = int(input(\"Enter a number n: \"))\n",
        "a = str(n)\n",
        "a1 = a + a\n",
        "a2 = a + a + a\n",
        "comp = n + int(a1) + int(a2)\n",
        "print (\"The value is: \", comp)"
      ],
      "execution_count": 31,
      "outputs": [
        {
          "output_type": "stream",
          "text": [
            "Enter a number n: 5\n",
            "The value is:  615\n"
          ],
          "name": "stdout"
        }
      ]
    }
  ]
}