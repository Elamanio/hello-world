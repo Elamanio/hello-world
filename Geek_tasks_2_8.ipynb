{
  "nbformat": 4,
  "nbformat_minor": 0,
  "metadata": {
    "colab": {
      "name": "Geek  tasks 2-8.ipynb",
      "provenance": [],
      "collapsed_sections": []
    },
    "kernelspec": {
      "name": "python3",
      "display_name": "Python 3"
    }
  },
  "cells": [
    {
      "cell_type": "code",
      "metadata": {
        "id": "ISliSL1Kw-ZA",
        "colab_type": "code",
        "colab": {
          "base_uri": "https://localhost:8080/",
          "height": 102
        },
        "outputId": "54a7b399-da75-4f1a-86c8-6ec34ec91580"
      },
      "source": [
        "#2.По введенным пользователем координатам двух точек вывести уравнение прямой вида y = kx + b, проходящей через эти точки.\n",
        "x1 = float(input(\"Enter X1: \"))\n",
        "y1 = float(input(\"Enter Y1: \"))\n",
        "\n",
        "x2 = float(input(\"Enter X2: \"))\n",
        "y2 = float(input(\"Enter Y2: \"))\n",
        "\n",
        "k = (y1 - y2) / (x1 - x2)\n",
        "b = y1 - k*x1\n",
        "print(f'y = {k} x + {b}')"
      ],
      "execution_count": 64,
      "outputs": [
        {
          "output_type": "stream",
          "text": [
            "Enter X1: -3\n",
            "Enter Y1: 2\n",
            "Enter X2: 5\n",
            "Enter Y2: 7\n",
            "y = 0.625 x + 3.875\n"
          ],
          "name": "stdout"
        }
      ]
    },
    {
      "cell_type": "code",
      "metadata": {
        "id": "m-qaPw80ZvM0",
        "colab_type": "code",
        "outputId": "05b0b9dd-f1bf-4c26-82d0-3c8ac307350c",
        "colab": {
          "base_uri": "https://localhost:8080/",
          "height": 174
        }
      },
      "source": [
        "#3. Написать программу, которая генерирует в указанных пользователем границах:\n",
        "#a. случайное целое число,\n",
        "#b. случайное вещественное число,\n",
        "#c. случайный символ.\n",
        "from random import random\n",
        "a1 = int(input(\"enter beginning range: \"))\n",
        "a2 = int(input (\"enter ending range: \"))\n",
        "n = int(random() * (a2 - a1 + 1)) + a1\n",
        "print (n)\n",
        "\n",
        "a1 = float(input(\"enter beginning range: \"))\n",
        "a2 = float(input (\"enter ending range: \"))\n",
        "n = random() * (a2 - a1) + a1\n",
        "print(round(n, 3))\n",
        "\n",
        "a1 = ord(input(\"enter beginning range: \"))\n",
        "a2 = ord(input (\"enter ending range: \"))\n",
        "n = int(random() * (a2 - a1 + 1)) + a1\n",
        "print (chr(n))"
      ],
      "execution_count": 0,
      "outputs": [
        {
          "output_type": "stream",
          "text": [
            "enter beginning range: 4\n",
            "enter ending range: 5\n",
            "4\n",
            "enter beginning range: 4.3\n",
            "enter ending range: 5.7\n",
            "5.406\n",
            "enter beginning range: d\n",
            "enter ending range: h\n",
            "g\n"
          ],
          "name": "stdout"
        }
      ]
    },
    {
      "cell_type": "code",
      "metadata": {
        "id": "6YL2m7yEcR21",
        "colab_type": "code",
        "outputId": "8cfbeb24-40cd-4940-d8d7-f0d3538a6579",
        "colab": {
          "base_uri": "https://localhost:8080/",
          "height": 85
        }
      },
      "source": [
        "#4. Пользователь вводит две буквы. Определить, на каких местах алфавита они стоят, и сколько между ними находится букв.\n",
        "a = ord(input('first letter: '))\n",
        "b = ord(input('2second letter: '))\n",
        "a = a - ord('a') + 1\n",
        "b = b - ord('a') + 1\n",
        "print('alphabet order: %d and %d' % (a,b))\n",
        "print('number of letters between:', abs(a-b)-1)\n"
      ],
      "execution_count": 0,
      "outputs": [
        {
          "output_type": "stream",
          "text": [
            "first letter: c\n",
            "2second letter: g\n",
            "alphabet order: 3 and 7\n",
            "number of letters between: 3\n"
          ],
          "name": "stdout"
        }
      ]
    },
    {
      "cell_type": "code",
      "metadata": {
        "id": "cBuwPy8Jezfn",
        "colab_type": "code",
        "outputId": "2199e3d7-f15d-4310-b6b0-ceefba0c9d76",
        "colab": {
          "base_uri": "https://localhost:8080/",
          "height": 55
        }
      },
      "source": [
        "#5. Пользователь вводит номер буквы в алфавите. Определить, какая это буква.\n",
        "a = a - ord('a') + 1\n",
        "b = b - ord('a') + 1\n",
        "n = int(input('number of letter: '))\n",
        "n = ord('a') + n - 1\n",
        "print('the letter is', chr(n))"
      ],
      "execution_count": 0,
      "outputs": [
        {
          "output_type": "stream",
          "text": [
            "number of letter: 22\n",
            "the letter is v\n"
          ],
          "name": "stdout"
        }
      ]
    },
    {
      "cell_type": "code",
      "metadata": {
        "id": "y16vBrzNf3OF",
        "colab_type": "code",
        "outputId": "a152588d-7ad2-4537-d0dc-69e51f032b4a",
        "colab": {
          "base_uri": "https://localhost:8080/",
          "height": 89
        }
      },
      "source": [
        "#6. По длинам трех отрезков, введенных пользователем, определить возможность существования треугольника, составленного из этих отрезков. \n",
        "#Если такой треугольник существует, то определить, является ли он разносторонним, равнобедренным или равносторонним.\n",
        "a = float(input(\"enter the first length: \"))\n",
        "b = float(input(\"enter the second length: \"))\n",
        "c = float(input(\"enter the third length: \"))\n",
        "if a == c != b or a == b != c or b == c != a:\n",
        "    print (\"isosceles triangle\")\n",
        "elif a == b == c:\n",
        "      print (\"equilateral triangle\")\n",
        "else: \n",
        "  print (\"random triangle\")"
      ],
      "execution_count": 48,
      "outputs": [
        {
          "output_type": "stream",
          "text": [
            "enter the first length: 5\n",
            "enter the second length: 5\n",
            "enter the third length: 5\n",
            "equilateral triangle\n"
          ],
          "name": "stdout"
        }
      ]
    },
    {
      "cell_type": "code",
      "metadata": {
        "id": "ifoqOXfgmcPU",
        "colab_type": "code",
        "colab": {
          "base_uri": "https://localhost:8080/",
          "height": 55
        },
        "outputId": "2f5835d9-8644-4895-cfc1-ef3fb9911e74"
      },
      "source": [
        "#7. Определить, является ли год, который ввел пользователь, високосным или не високосным.\n",
        "Year = int(input(\"Enter a year: \"))\n",
        "if Year % 4 == 0:\n",
        "    print(\"a leap year\")        \n",
        "else:\n",
        "    print(\"not a leap year\")"
      ],
      "execution_count": 52,
      "outputs": [
        {
          "output_type": "stream",
          "text": [
            "Enter a year: 1988\n",
            "a leap year\n"
          ],
          "name": "stdout"
        }
      ]
    },
    {
      "cell_type": "code",
      "metadata": {
        "id": "OLbDCXtMn63w",
        "colab_type": "code",
        "colab": {
          "base_uri": "https://localhost:8080/",
          "height": 102
        },
        "outputId": "0ed554a7-8814-4973-8a6c-ca7044bf3fd8"
      },
      "source": [
        "#8.Вводятся три разных числа. Найти, какое из них является средним (больше одного, но меньше другого\n",
        "a = float(input(\"Enter the number a: \"))\n",
        "b = float(input(\"Enter the number b: \"))\n",
        "c = float(input(\"Enter the number c: \"))\n",
        "if (a < b and a > c) or (a < c and a > b):\n",
        "  print(f'The median is a')\n",
        "elif (b > a and b < c) or (b > c and b < a):\n",
        "  print( print(f'The median is b'))\n",
        "elif (c > a and c < b) or (c > b and c < a):\n",
        "  print( print(f'The median is c, {c}'))\n",
        "else:\n",
        "  print( print(\"Nothing\"))"
      ],
      "execution_count": 59,
      "outputs": [
        {
          "output_type": "stream",
          "text": [
            "Enter the number a: 2\n",
            "Enter the number b: 2\n",
            "Enter the number c: 2\n",
            "Nothing\n",
            "None\n"
          ],
          "name": "stdout"
        }
      ]
    }
  ]
}